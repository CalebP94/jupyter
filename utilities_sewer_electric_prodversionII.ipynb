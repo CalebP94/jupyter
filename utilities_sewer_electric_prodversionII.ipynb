{
 "cells": [
  {
   "cell_type": "markdown",
   "metadata": {},
   "source": [
    "## Sanitary Sewer at City of Columbia\n",
    "\n",
    "1. Editing and digitizing Sanitary Sewer networks according to NASSCO based GIS Schema\n",
    "    - Was NASSCO certified and review MACP and PACP videos\n",
    "\n",
    "2. Primary analyst responsible for O&M project GIS feature produciton and summary statistics\n",
    "\n",
    "    - Features reflected statuses of rehab, what was in scope by fiscal year\n",
    "    - Easement Clearing\n",
    "    - Manhole rehabilitation\n",
    "    - Gravity main rehabilitation "
   ]
  },
  {
   "cell_type": "markdown",
   "metadata": {},
   "source": [
    "## Electric Utilities at Duke Energy\n",
    "\n",
    "1. Configured web applications for entry-level technicians to mark conductor lines and \"critical devices\" in scope using ESRI native widgets.\n",
    "\n",
    "2. Created Arcade expressions for symbolization based on status in web application (e.g., in-scope vs out-of-scope).\n",
    "\n",
    "3. Enabled utility network tracing by configuring subnetwork controllers at identified critical devices for downstream selection and asset querying.\n",
    "\n",
    "4. Developed Power BI GIS Data QA/QC reports integrating survey data and distributed asset management systems to validate field entries.\n",
    "\n",
    "5. Built Power BI survey scoring tools based on GIS survey results.\n",
    "\n",
    "    - Surveys were organized by circuits (unique identifiers of transmission lines from subconductor to destination/loops) and evaluated attributes like wire condition, pole condition, and fuse status.\n",
    "    \n",
    "    - Scoring logic was defined in SQL using `CASE` statements according to GIS survey domain rules.\n",
    "    \n",
    "        - EX → A \"poor\" wire condition might have a domain value of `1`, which was weighted as `0.05` in SQL scoring logic.\n",
    "    \n",
    "    - Final survey scores were standardized based on the linear footage of each circuit.\n",
    "\n",
    "6. Created project cost estimates using linear regression models based on survey data and asset attributes."
   ]
  }
 ],
 "metadata": {
  "language_info": {
   "name": "python"
  }
 },
 "nbformat": 4,
 "nbformat_minor": 2
}
